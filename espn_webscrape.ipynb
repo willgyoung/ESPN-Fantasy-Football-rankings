{
 "cells": [
  {
   "cell_type": "code",
   "execution_count": 1,
   "metadata": {},
   "outputs": [],
   "source": [
    "from bs4 import BeautifulSoup as soup\n",
    "from urllib.request import urlopen as uReq\n",
    "import pandas as pd"
   ]
  },
  {
   "cell_type": "code",
   "execution_count": 2,
   "metadata": {},
   "outputs": [],
   "source": [
    "url = 'https://www.espn.com/fantasy/football/story/_/id/25759239/fantasy-football-2019-updated-ppr-rankings-matthew-berry'\n",
    "client = uReq(url)\n",
    "page_html = client.read()\n",
    "page_html\n",
    "client.close()"
   ]
  },
  {
   "cell_type": "code",
   "execution_count": 3,
   "metadata": {},
   "outputs": [],
   "source": [
    "page_soup = soup(page_html, 'html.parser')"
   ]
  },
  {
   "cell_type": "code",
   "execution_count": 7,
   "metadata": {},
   "outputs": [
    {
     "data": {
      "text/plain": [
       "<h2 class=\"table-caption\">2019 Fantasy Football Rankings</h2>"
      ]
     },
     "execution_count": 7,
     "metadata": {},
     "output_type": "execute_result"
    }
   ],
   "source": [
    "page_soup.h2"
   ]
  },
  {
   "cell_type": "code",
   "execution_count": 8,
   "metadata": {},
   "outputs": [],
   "source": [
    "containers = page_soup.findAll('aside', {'class':'inline inline-table'})"
   ]
  },
  {
   "cell_type": "code",
   "execution_count": 9,
   "metadata": {},
   "outputs": [],
   "source": [
    "#Removes the first container that doesn't have pertainent info\n",
    "rankings = containers[1:5]\n",
    "rankings = rankings[0]"
   ]
  },
  {
   "cell_type": "code",
   "execution_count": 14,
   "metadata": {},
   "outputs": [
    {
     "data": {
      "text/plain": [
       "\"1. Saquon BarkleyNYGRB2. Christian McCaffreyCARRB3. Alvin KamaraNORB4. David JohnsonARIRB5. Davante AdamsGBWR6. DeAndre HopkinsHOUWR7. Todd Gurley IILARRB8. Odell Beckham Jr.CLEWR9. Joe MixonCINRB10. Nick ChubbCLERB11. Julio JonesATLWR12. Michael ThomasNOWR13. JuJu Smith-SchusterPITWR14. Travis KelceKCTE15. Tyreek HillKCWR16. Josh JacobsOAKRB17. Ezekiel ElliottDALRB18. James ConnerPITRB19. Dalvin CookMINRB20. Mike EvansTBWR21. Damien WilliamsKCRB22. Antonio BrownOAKWR23. Le'Veon BellNYJRB24. Kerryon JohnsonDETRB25. Keenan AllenLACWR26. Julian EdelmanNEWR27. Aaron JonesGBRB28. George KittleSFTE29. Patrick MahomesKCQB30. Adam ThielenMINWR31. Chris CarsonSEARB32. Zach ErtzPHITE33. T.Y. HiltonINDWR34. Amari CooperDALWR35. Devonta FreemanATLRB36. Leonard FournetteJACRB37. Marlon MackINDRB38. Stefon DiggsMINWR39. Robert WoodsLARWR40. Melvin GordonLACRB41. James WhiteNERB42. Sony MichelNERB43. David MontgomeryCHIRB44. Cooper KuppLARWR45. Mark Ingram IIBALRB46. Chris GodwinTBWR47. Brandin CooksLARWR48. Kenny GolladayDETWR49. Deshaun WatsonHOUQB50. Derrick HenryTENRB51. Tyler BoydCINWR52. Tyler LockettSEAWR53. DJ MooreCARWR54. Miles SandersPHIRB55. Robby AndersonNYJWR56. Evan EngramNYGTE57. Tevin ColemanSFRB58. Alshon JefferyPHIWR59. Phillip LindsayDENRB60. Mike WilliamsLACWR61. A.J. GreenCINWR62. Josh GordonNEWR63. O.J. HowardTBTE64. Aaron RodgersGBQB65. Baker MayfieldCLEQB66. Carson WentzPHIQB67. Will Fuller VHOUWR68. Jordan HowardPHIRB69. Latavius MurrayNORB70. Lamar MillerHOURB71. Hunter HenryLACTE72. Dede WestbrookJACWR73. Vance McDonaldPITTE74. Matt RyanATLQB75. Sammy WatkinsKCWR76. Royce FreemanDENRB77. Derrius GuiceWASRB78. Allen RobinsonCHIWR79. Sterling ShepardNYGWR80. Jarvis LandryCLEWR81. Cam NewtonCARQB82. Christian KirkARIWR83. Kalen BallageMIARB84. Rashaad PennySEARB85. Calvin RidleyATLWR86. Kenyan DrakeMIARB87. Kyler MurrayARIQB88. Austin EkelerLACRB89. Jared CookNOTE90. Darrell HendersonLARRB91. Tarik CohenCHIRB92. Curtis SamuelCARWR93. Donte MoncriefPITWR94. Emmanuel SandersDENWR95. Geronimo AllisonGBWR96. Duke Johnson Jr.HOURB97. Marvin Jones Jr.DETWR98. Jared GoffLARQB99. Ben RoethlisbergerPITQB100. Anthony MillerCHIWR101. Peyton BarberTBRB102. Marquez Valdes-ScantlingGBWR103. Jamison CrowderNYJWR104. Corey DavisTENWR105. Austin HooperATLTE106. Andrew LuckINDQB107. Ronald JonesTBRB108. Larry FitzgeraldARIWR109. Dion LewisTENRB110. Delanie WalkerTENTE111. Drew BreesNOQB112. Jameis WinstonTBQB113. Courtland SuttonDENWR114. Michael GallupDALWR115. LeSean McCoyBUFRB116. Alexander MattisonMINRB117. Jack DoyleINDTE118. Matt BreidaSFRB119. Justin JacksonLACRB120. Eric EbronINDTE121. DeSean JacksonPHIWR122. Jamaal WilliamsGBRB123. Devin SingletaryBUFRB124. Malcolm BrownLARRB125. Russell WilsonSEAQB126. N'Keal HarryNEWR127. Mitchell TrubiskyCHIQB128. Lamar JacksonBALQB129. David NjokuCLETE130. John BrownBUFWR131. Marquise BrownBALWR132. Damien HarrisNERB133. Chris ThompsonWASRB134. Devin FunchessINDWR135. Dante PettisSFWR136. Rashard HigginsCLEWR137. Carlos HydeKCRB138. Parris CampbellINDWR139. Mohamed SanuATLWR140. Miles BoykinBALWR141. Chicago BearsCHIDST142. Los Angeles RamsLARDST143. Jacksonville JaguarsJACDST144. Minnesota VikingsMINDST145. Los Angeles ChargersLACDST146. Houston TexansHOUDST147. New England PatriotsNEDST148. Indianapolis ColtsINDDST149. Buffalo BillsBUFDST150. New Orleans SaintsNODST151. Greg ZuerleinLARK152. Stephen GostkowskiNEK153. Justin TuckerBALK154. Wil LutzNOK155. Harrison ButkerKCK156. Ka'imi FairbairnHOUK157. Robbie GouldSFK158. Adam VinatieriINDK159. Brett MaherDALK160. Jason MyersSEAK161. Dak PrescottDALQB162. Greg OlsenCARTE163. Ty MontgomeryNYJRB164. Kareem HuntCLERB165. Philip RiversLACQB166. David MooreSEAWR167. Keke CouteeHOUWR168. Justice HillBALRB169. Nyheim HinesINDRB170. Josh AllenBUFQB171. Ito SmithATLRB172. Kenny StillsMIAWR173. Trey QuinnWASWR174. Tyrell WilliamsOAKWR175. Deebo SamuelSFWR176. Adrian PetersonWASRB177. Kirk CousinsMINQB178. Darren WallerOAKTE179. Jordan ReedWASTE180. Jaylen SamuelsPITRB181. Darwin ThompsonKCRB182. C.J. AndersonDETRB183. DaeSean HamiltonDENWR184. Golden TateNYGWR185. Adam HumphriesTENWR186. Kyle RudolphMINTE187. Jimmy GaroppoloSFQB188. Tre'Quan SmithNOWR189. Mark AndrewsBALTE190. James WashingtonPITWR191. Albert WilsonMIAWR192. Hunter RenfrowOAKWR193. Dallas GoedertPHITE194. Chris ConleyJACWR195. Andy IsabellaARIWR196. Tony PollardDALRB197. Trey BurtonCHITE198. Jalen RichardOAKRB199. Tom BradyNEQB200. Mike DavisCHIRB\""
      ]
     },
     "execution_count": 14,
     "metadata": {},
     "output_type": "execute_result"
    }
   ],
   "source": [
    "top_200 = rankings.find('tbody')\n",
    "top_200.text"
   ]
  },
  {
   "cell_type": "code",
   "execution_count": 84,
   "metadata": {},
   "outputs": [],
   "source": [
    "ranks = []\n",
    "\n",
    "#Iterates over the rankings and finds all the 'td' tags then extrapolates\n",
    "#over the text for each individual instance of the text\n",
    "for information in rankings:\n",
    "    text = information.find_all('td')\n",
    "    for info in text:      \n",
    "        ranks.append(info.text)\n"
   ]
  },
  {
   "cell_type": "code",
   "execution_count": 19,
   "metadata": {},
   "outputs": [
    {
     "data": {
      "text/html": [
       "<div>\n",
       "<style scoped>\n",
       "    .dataframe tbody tr th:only-of-type {\n",
       "        vertical-align: middle;\n",
       "    }\n",
       "\n",
       "    .dataframe tbody tr th {\n",
       "        vertical-align: top;\n",
       "    }\n",
       "\n",
       "    .dataframe thead th {\n",
       "        text-align: right;\n",
       "    }\n",
       "</style>\n",
       "<table border=\"1\" class=\"dataframe\">\n",
       "  <thead>\n",
       "    <tr style=\"text-align: right;\">\n",
       "      <th></th>\n",
       "      <th>0</th>\n",
       "    </tr>\n",
       "  </thead>\n",
       "  <tbody>\n",
       "    <tr>\n",
       "      <th>0</th>\n",
       "      <td>1. Saquon Barkley</td>\n",
       "    </tr>\n",
       "    <tr>\n",
       "      <th>1</th>\n",
       "      <td>NYG</td>\n",
       "    </tr>\n",
       "    <tr>\n",
       "      <th>2</th>\n",
       "      <td>RB</td>\n",
       "    </tr>\n",
       "    <tr>\n",
       "      <th>3</th>\n",
       "      <td>2. Christian McCaffrey</td>\n",
       "    </tr>\n",
       "    <tr>\n",
       "      <th>4</th>\n",
       "      <td>CAR</td>\n",
       "    </tr>\n",
       "    <tr>\n",
       "      <th>5</th>\n",
       "      <td>RB</td>\n",
       "    </tr>\n",
       "    <tr>\n",
       "      <th>6</th>\n",
       "      <td>3. Alvin Kamara</td>\n",
       "    </tr>\n",
       "    <tr>\n",
       "      <th>7</th>\n",
       "      <td>NO</td>\n",
       "    </tr>\n",
       "    <tr>\n",
       "      <th>8</th>\n",
       "      <td>RB</td>\n",
       "    </tr>\n",
       "    <tr>\n",
       "      <th>9</th>\n",
       "      <td>4. David Johnson</td>\n",
       "    </tr>\n",
       "  </tbody>\n",
       "</table>\n",
       "</div>"
      ],
      "text/plain": [
       "                        0\n",
       "0       1. Saquon Barkley\n",
       "1                     NYG\n",
       "2                      RB\n",
       "3  2. Christian McCaffrey\n",
       "4                     CAR\n",
       "5                      RB\n",
       "6         3. Alvin Kamara\n",
       "7                      NO\n",
       "8                      RB\n",
       "9        4. David Johnson"
      ]
     },
     "execution_count": 19,
     "metadata": {},
     "output_type": "execute_result"
    }
   ],
   "source": [
    "all_position_ranks = pd.DataFrame(ranks)\n",
    "all_position_ranks.head(10)"
   ]
  },
  {
   "cell_type": "code",
   "execution_count": 17,
   "metadata": {},
   "outputs": [],
   "source": [
    "#Creates a list of every third line starting at the second line\n",
    "team_list = all_position_ranks[1::3].reset_index(drop = True)\n",
    "\n",
    "position_list = all_position_ranks.iloc[2::3, :].reset_index(drop = True)\n",
    "\n",
    "player_names = all_position_ranks[0::3].reset_index(drop = True)\n"
   ]
  },
  {
   "cell_type": "code",
   "execution_count": 20,
   "metadata": {},
   "outputs": [],
   "source": [
    "rank_player_list = player_names[0].str.split('.', n = 1, expand = True)\n",
    "\n",
    "#Merges the dataframes based on their index and does so column wise\n",
    "all_position_ranks = pd.concat([rank_player_list, position_list, team_list], axis = 1)"
   ]
  },
  {
   "cell_type": "code",
   "execution_count": 21,
   "metadata": {},
   "outputs": [
    {
     "data": {
      "text/html": [
       "<div>\n",
       "<style scoped>\n",
       "    .dataframe tbody tr th:only-of-type {\n",
       "        vertical-align: middle;\n",
       "    }\n",
       "\n",
       "    .dataframe tbody tr th {\n",
       "        vertical-align: top;\n",
       "    }\n",
       "\n",
       "    .dataframe thead th {\n",
       "        text-align: right;\n",
       "    }\n",
       "</style>\n",
       "<table border=\"1\" class=\"dataframe\">\n",
       "  <thead>\n",
       "    <tr style=\"text-align: right;\">\n",
       "      <th></th>\n",
       "      <th>0</th>\n",
       "      <th>1</th>\n",
       "      <th>0</th>\n",
       "      <th>0</th>\n",
       "    </tr>\n",
       "  </thead>\n",
       "  <tbody>\n",
       "    <tr>\n",
       "      <th>0</th>\n",
       "      <td>1</td>\n",
       "      <td>Saquon Barkley</td>\n",
       "      <td>RB</td>\n",
       "      <td>NYG</td>\n",
       "    </tr>\n",
       "    <tr>\n",
       "      <th>1</th>\n",
       "      <td>2</td>\n",
       "      <td>Christian McCaffrey</td>\n",
       "      <td>RB</td>\n",
       "      <td>CAR</td>\n",
       "    </tr>\n",
       "    <tr>\n",
       "      <th>2</th>\n",
       "      <td>3</td>\n",
       "      <td>Alvin Kamara</td>\n",
       "      <td>RB</td>\n",
       "      <td>NO</td>\n",
       "    </tr>\n",
       "    <tr>\n",
       "      <th>3</th>\n",
       "      <td>4</td>\n",
       "      <td>David Johnson</td>\n",
       "      <td>RB</td>\n",
       "      <td>ARI</td>\n",
       "    </tr>\n",
       "    <tr>\n",
       "      <th>4</th>\n",
       "      <td>5</td>\n",
       "      <td>Davante Adams</td>\n",
       "      <td>WR</td>\n",
       "      <td>GB</td>\n",
       "    </tr>\n",
       "    <tr>\n",
       "      <th>5</th>\n",
       "      <td>6</td>\n",
       "      <td>DeAndre Hopkins</td>\n",
       "      <td>WR</td>\n",
       "      <td>HOU</td>\n",
       "    </tr>\n",
       "    <tr>\n",
       "      <th>6</th>\n",
       "      <td>7</td>\n",
       "      <td>Todd Gurley II</td>\n",
       "      <td>RB</td>\n",
       "      <td>LAR</td>\n",
       "    </tr>\n",
       "    <tr>\n",
       "      <th>7</th>\n",
       "      <td>8</td>\n",
       "      <td>Odell Beckham Jr.</td>\n",
       "      <td>WR</td>\n",
       "      <td>CLE</td>\n",
       "    </tr>\n",
       "    <tr>\n",
       "      <th>8</th>\n",
       "      <td>9</td>\n",
       "      <td>Joe Mixon</td>\n",
       "      <td>RB</td>\n",
       "      <td>CIN</td>\n",
       "    </tr>\n",
       "    <tr>\n",
       "      <th>9</th>\n",
       "      <td>10</td>\n",
       "      <td>Nick Chubb</td>\n",
       "      <td>RB</td>\n",
       "      <td>CLE</td>\n",
       "    </tr>\n",
       "  </tbody>\n",
       "</table>\n",
       "</div>"
      ],
      "text/plain": [
       "    0                     1   0    0\n",
       "0   1        Saquon Barkley  RB  NYG\n",
       "1   2   Christian McCaffrey  RB  CAR\n",
       "2   3          Alvin Kamara  RB   NO\n",
       "3   4         David Johnson  RB  ARI\n",
       "4   5         Davante Adams  WR   GB\n",
       "5   6       DeAndre Hopkins  WR  HOU\n",
       "6   7        Todd Gurley II  RB  LAR\n",
       "7   8     Odell Beckham Jr.  WR  CLE\n",
       "8   9             Joe Mixon  RB  CIN\n",
       "9  10            Nick Chubb  RB  CLE"
      ]
     },
     "execution_count": 21,
     "metadata": {},
     "output_type": "execute_result"
    }
   ],
   "source": [
    "all_position_ranks.head(10)"
   ]
  },
  {
   "cell_type": "code",
   "execution_count": 23,
   "metadata": {},
   "outputs": [
    {
     "data": {
      "text/plain": [
       "Index(['rank', 'player_name', 'position', 'team'], dtype='object')"
      ]
     },
     "execution_count": 23,
     "metadata": {},
     "output_type": "execute_result"
    }
   ],
   "source": [
    "all_position_ranks.columns = ['rank', 'player_name', 'position', 'team']\n",
    "all_position_ranks.columns"
   ]
  },
  {
   "cell_type": "code",
   "execution_count": 24,
   "metadata": {},
   "outputs": [
    {
     "name": "stdout",
     "output_type": "stream",
     "text": [
      "<class 'pandas.core.frame.DataFrame'>\n",
      "RangeIndex: 200 entries, 0 to 199\n",
      "Data columns (total 4 columns):\n",
      "rank           200 non-null object\n",
      "player_name    200 non-null object\n",
      "position       200 non-null object\n",
      "team           200 non-null object\n",
      "dtypes: object(4)\n",
      "memory usage: 6.3+ KB\n"
     ]
    }
   ],
   "source": [
    "all_position_ranks.info()"
   ]
  },
  {
   "cell_type": "code",
   "execution_count": 25,
   "metadata": {},
   "outputs": [
    {
     "name": "stdout",
     "output_type": "stream",
     "text": [
      "<class 'pandas.core.frame.DataFrame'>\n",
      "RangeIndex: 200 entries, 0 to 199\n",
      "Data columns (total 4 columns):\n",
      "rank           200 non-null int32\n",
      "player_name    200 non-null object\n",
      "position       200 non-null object\n",
      "team           200 non-null object\n",
      "dtypes: int32(1), object(3)\n",
      "memory usage: 5.5+ KB\n",
      "None\n"
     ]
    }
   ],
   "source": [
    "all_position_ranks['rank'] = all_position_ranks['rank'].astype(int)\n",
    "print(all_position_ranks.info())"
   ]
  },
  {
   "cell_type": "code",
   "execution_count": 26,
   "metadata": {},
   "outputs": [],
   "source": [
    "matthew_berrys_pos_rank = all_position_ranks"
   ]
  },
  {
   "cell_type": "code",
   "execution_count": 27,
   "metadata": {},
   "outputs": [
    {
     "name": "stdout",
     "output_type": "stream",
     "text": [
      "Aug 19, 2019\n"
     ]
    }
   ],
   "source": [
    "date_info = page_soup.find('span', {'data-dateformat':'date1'})\n",
    "\n",
    "berry_date_updated = date_info.text\n",
    "print(berry_date_updated)"
   ]
  },
  {
   "cell_type": "code",
   "execution_count": 28,
   "metadata": {},
   "outputs": [],
   "source": [
    "matthew_berrys_pos_rank.to_csv('matthew_berrys_top_position_ranks_' + berry_date_updated + '.csv', index = None, header = True)"
   ]
  },
  {
   "cell_type": "code",
   "execution_count": 29,
   "metadata": {},
   "outputs": [],
   "source": [
    "url2 = 'https://www.espn.com/fantasy/football/story/_/id/26415022/fantasy-football-updated-2019-ppr-rankings-mike-clay'"
   ]
  },
  {
   "cell_type": "code",
   "execution_count": 30,
   "metadata": {},
   "outputs": [],
   "source": [
    "client = uReq(url2)\n",
    "page_html = client.read()\n",
    "page_html\n",
    "client.close()\n",
    "\n",
    "page_soup = soup(page_html, 'html.parser')"
   ]
  },
  {
   "cell_type": "code",
   "execution_count": 34,
   "metadata": {},
   "outputs": [
    {
     "name": "stdout",
     "output_type": "stream",
     "text": [
      "<h2 class=\"table-caption\">2019 Fantasy Football Rankings</h2>\n"
     ]
    }
   ],
   "source": [
    "print(page_soup.h2)"
   ]
  },
  {
   "cell_type": "code",
   "execution_count": 46,
   "metadata": {},
   "outputs": [
    {
     "name": "stdout",
     "output_type": "stream",
     "text": [
      "['inline', 'inline-table']\n"
     ]
    }
   ],
   "source": [
    "containers = page_soup.findAll('aside', {'class':'inline inline-table'})\n",
    "print(containers[1]['class'])"
   ]
  },
  {
   "cell_type": "code",
   "execution_count": 50,
   "metadata": {},
   "outputs": [
    {
     "data": {
      "text/plain": [
       "\"1. Saquon BarkleyRBNYG1112. Christian McCaffreyRBCAR723. Alvin KamaraRBNO934. Ezekiel ElliottRBDAL845. David JohnsonRBARI1256. Le'Veon BellRBNYJ467. DeAndre HopkinsWRHOU1018. Michael ThomasWRNO929. Davante AdamsWRGB11310. Julio JonesWRATL9411. Odell Beckham Jr.WRCLE7512. Tyreek HillWRKC12613. JuJu Smith-SchusterWRPIT7714. Todd Gurley IIRBLAR9715. Travis KelceTEKC12116. Antonio BrownWROAK6817. Joe MixonRBCIN9818. James ConnerRBPIT7919. Dalvin CookRBMIN121020. Mike EvansWRTB7921. Keenan AllenWRLAC121022. Nick ChubbRBCLE71123. Kerryon JohnsonRBDET51224. Leonard FournetteRBJAC101325. Devonta FreemanRBATL91426. Melvin GordonRBLAC121527. Amari CooperWRDAL81128. T.Y. HiltonWRIND61229. George KittleTESF4230. Zach ErtzTEPHI10331. Josh JacobsRBOAK61632. Derrick HenryRBTEN111733. Chris CarsonRBSEA111834. Marlon MackRBIND61935. Aaron JonesRBGB112036. Julian EdelmanWRNE101337. Adam ThielenWRMIN121438. Brandin CooksWRLAR91539. Stefon DiggsWRMIN121640. Robert WoodsWRLAR91741. Kenny GolladayWRDET51842. Cooper KuppWRLAR91943. Patrick MahomesQBKC12144. Damien WilliamsRBKC122145. Mark Ingram IIRBBAL82246. Alshon JefferyWRPHI102047. Chris GodwinWRTB72148. Tyler LockettWRSEA112249. Mike WilliamsWRLAC122350. DJ MooreWRCAR72451. Tyler BoydWRCIN92552. Allen RobinsonWRCHI62653. Calvin RidleyWRATL92754. Sammy WatkinsWRKC122855. A.J. GreenWRCIN92956. James WhiteRBNE102357. Sony MichelRBNE102458. Kenyan DrakeRBMIA52559. David MontgomeryRBCHI62660. Tarik CohenRBCHI62761. Phillip LindsayRBDEN102862. Derrius GuiceRBWAS102963. Lamar MillerRBHOU103064. Evan EngramTENYG11465. O.J. HowardTETB7566. Hunter HenryTELAC12667. Jared CookTENO9768. Deshaun WatsonQBHOU10269. Matt RyanQBATL9370. Aaron RodgersQBGB11471. Sterling ShepardWRNYG113072. Jarvis LandryWRCLE73173. Robby AndersonWRNYJ43274. Dede WestbrookWRJAC103375. Will Fuller VWRHOU103476. Marvin Jones Jr.WRDET53577. Christian KirkWRARI123678. Emmanuel SandersWRDEN103779. Tevin ColemanRBSF43180. Miles SandersRBPHI103281. Austin EkelerRBLAC123382. Duke Johnson Jr.RBHOU103483. Royce FreemanRBDEN103584. Rashaad PennyRBSEA113685. Nyheim HinesRBIND63786. Cam NewtonQBCAR7587. Baker MayfieldQBCLE7688. Carson WentzQBPHI10789. Andrew LuckQBIND6890. Corey DavisWRTEN113891. Jamison CrowderWRNYJ43992. Curtis SamuelWRCAR74093. Josh GordonWRNE104194. Larry FitzgeraldWRARI124295. Courtland SuttonWRDEN104396. Keke CouteeWRHOU104497. Michael GallupWRDAL84598. Jordan HowardRBPHI103899. Peyton BarberRBTB739100. Matt BreidaRBSF440101. Latavius MurrayRBNO941102. LeSean McCoyRBBUF642103. Carlos HydeRBKC1243104. Darrell HendersonRBLAR944105. Dante PettisWRSF446106. Donte MoncriefWRPIT747107. James WashingtonWRPIT748108. Geronimo AllisonWRGB1149109. Vance McDonaldTEPIT78110. David NjokuTECLE79111. Delanie WalkerTETEN1110112. Eric EbronTEIND611113. Dak PrescottQBDAL89114. Drew BreesQBNO910115. Ben RoethlisbergerQBPIT711116. Russell WilsonQBSEA1112117. Kyler MurrayQBARI1213118. Jared GoffQBLAR914119. Marquez Valdes-ScantlingWRGB1150120. DeSean JacksonWRPHI1051121. Tyrell WilliamsWROAK652122. Devin FunchessWRIND653123. Anthony MillerWRCHI654124. Tom BradyQBNE1015125. Lamar JacksonQBBAL816126. DK MetcalfWRSEA1155127. Kenny StillsWRMIA556128. Golden TateWRNYG1157129. Adam HumphriesWRTEN1158130. Albert WilsonWRMIA559131. Austin HooperTEATL912132. Jordan ReedTEWAS1013133. Trey BurtonTECHI614134. Mark AndrewsTEBAL815135. Ronald JonesRBTB745136. Jalen RichardRBOAK646137. Dion LewisRBTEN1147138. Giovani BernardRBCIN948139. John BrownWRBUF660140. DaeSean HamiltonWRDEN1061141. Bears D/STDSTCHI61142. Jaguars D/STDSTJAC102143. Bills D/STDSTBUF63144. Rams D/STDSTLAR94145. Vikings D/STDSTMIN125146. Saints D/STDSTNO96147. Chargers D/STDSTLAC127148. Patriots D/STDSTNE108149. Colts D/STDSTIND69150. Titans D/STDSTTEN1110151. Greg ZuerleinKLAR91152. Justin TuckerKBAL82153. Wil LutzKNO93154. Harrison ButkerKKC124155. Stephen GostkowskiKNE105156. Ka'imi FairbairnKHOU106157. Robbie GouldKSF47158. Mike BadgleyKLAC128159. Adam VinatieriKIND69160. Brett MaherKDAL810161. Mohamed SanuWRATL962162. Parris CampbellWRIND663163. Deebo SamuelWRSF464164. Greg OlsenTECAR716165. Jack DoyleTEIND617166. Jimmy GrahamTEGB1118167. Mitchell TrubiskyQBCHI617168. Jameis WinstonQBTB718169. Philip RiversQBLAC1219170. Kalen BallageRBMIA549171. Jaylen SamuelsRBPIT750172. Devin SingletaryRBBUF651173. Tony PollardRBDAL852174. Justin JacksonRBLAC1253175. DJ CharkWRJAC1065176. Chris ConleyWRJAC1066177. Marquise BrownWRBAL867178. Paul RichardsonWRWAS1068179. Tre'Quan SmithWRNO969180. N'Keal HarryWRNE1070181. Andy IsabellaWRARI1271182. Kirk CousinsQBMIN1220183. Kyle RudolphTEMIN1219184. Chris ThompsonRBWAS1054185. Mike DavisRBCHI655186. Jerick McKinnonRBSF456187. Kareem HuntRBCLE757188. Darwin ThompsonRBKC1258189. Broncos D/STDSTDEN1011190. Texans D/STDSTHOU1012191. Matt PraterKDET511192. Jake ElliottKPHI1012193. Chris HerndonTENYJ420194. Mark WaltonRBMIA559195. Damien HarrisRBNE1060196. Mecole HardmanWRKC1272197. Terry McLaurinWRWAS1073198. A.J. BrownWRTEN1174199. Justice HillRBBAL861200. Malcolm BrownRBLAR962201. C.J. AndersonRBDET563202. Dexter WilliamsRBGB1164203. Adrian PetersonRBWAS1065204. Jamaal WilliamsRBGB1166205. Ito SmithRBATL967206. Alexander MattisonRBMIN1268207. Gus EdwardsRBBAL869208. Chase EdmondsRBARI1270209. Frank GoreRBBUF671210. T.J. HockensonTEDET521211. Noah FantTEDEN1022212. Derek CarrQBOAK621213. Cole BeasleyWRBUF675214. Ted Ginn Jr.WRNO976215. Hakeem ButlerWRARI1277216. Randall CobbWRDAL878217. DeVante ParkerWRMIA579218. Zay JonesWRBUF680219. Sam DarnoldQBNYJ422220. Jimmy GaroppoloQBSF423221. Eagles D/STDSTPHI1013222. Browns D/STDSTCLE714223. Mason CrosbyKGB1113224. Ryan SuccopKTEN1114225. Quincy EnunwaWRNYJ481226. Willie Snead IVWRBAL882227. Josh DoctsonWRWAS1083228. Trey QuinnWRWAS1084229. Nelson AgholorWRPHI1085230. John RossWRCIN986231. Rashard HigginsWRCLE787232. Robert FosterWRBUF688233. JJ Arcega-WhitesideWRPHI1089234. Diontae JohnsonWRPIT790235. Theo RiddickRBDEN1072236. Dontrell HilliardRBCLE773237. Darren SprolesRBPHI1074238. Benny Snell Jr.RBPIT775239. Doug MartinRBOAK676240. Rex BurkheadRBNE1077241. Ryquell ArmsteadRBJAC1078242. Ty MontgomeryRBNYJ479243. Josh AllenQBBUF624244. Matthew StaffordQBDET525245. Marcus MariotaQBTEN1126246. Tyler EifertTECIN923247. Darren WallerTEOAK624248. Mike GesickiTEMIA525249. Will DisslyTESEA1126250. Andre EllingtonRBTB780251. Hunter RenfrowWROAK691252. Marqise LeeWRJAC1092253. Ravens D/STDSTBAL815254. Steelers D/STDSTPIT716255. Aldrick RosasKNYG1115256. Giorgio TavecchioKATL916257. Dallas GoedertTEPHI1027258. Gerald EverettTELAR928259. Jason WittenTEDAL829260. Miles BoykinWRBAL893261. Breshad PerrimanWRTB794262. David MooreWRSEA1195263. Taylor GabrielWRCHI696264. Wayne GallmanRBNYG1181265. Alfred MorrisRBDAL882266. Andy DaltonQBCIN927267. Eli ManningQBNYG1128268. Nick FolesQBJAC1029269. Joe FlaccoQBDEN1030270. Ryan FitzpatrickQBMIA531271. Danny AmendolaWRDET597272. Marquise GoodwinWRSF498273. Antonio CallawayWRCLE799274. Josh ReynoldsWRLAR9100275. Demaryius ThomasWRNE10101276. Alfred BlueRBJAC1083277. T.J. YeldonRBBUF684278. Bilal PowellRBNYJ485279. Bryce LoveRBWAS1086280. Jordan WilkinsRBIND687281. Qadree OllisonRBATL988282. Cameron Artis-PayneRBCAR789283. Zach ZennerRBDET590284. Jalen HurdWRSF4102285. Panthers D/STDSTCAR717286. Redskins D/STDSTWAS1018287. Kaare VedvikKMIN1217288. Graham GanoKCAR718289. Benjamin WatsonTENE1030290. Matt LaCosseTENE1031291. Jordan ThomasTEHOU1032292. Hayden HurstTEBAL833293. Dawson KnoxTEBUF634294. Darius SlaytonWRNYG11103295. Preston WilliamsWRMIA5104296. Dwayne HaskinsQBWAS1032297. Chiefs D/STDSTKC1219298. Cowboys D/STDSTDAL820299. Cardinals D/STDSTARI1221300. Lions D/STDSTDET522\""
      ]
     },
     "execution_count": 50,
     "metadata": {},
     "output_type": "execute_result"
    }
   ],
   "source": [
    "top_300 = containers[1].find('tbody')\n",
    "top_300.text"
   ]
  },
  {
   "cell_type": "code",
   "execution_count": 52,
   "metadata": {},
   "outputs": [],
   "source": [
    "clay_300 = []\n",
    "\n",
    "for text in top_300:\n",
    "    info = text.find_all('td')\n",
    "    for td in info:\n",
    "        clay_300.append(td.text)"
   ]
  },
  {
   "cell_type": "code",
   "execution_count": 54,
   "metadata": {},
   "outputs": [
    {
     "data": {
      "text/plain": [
       "['1. Saquon Barkley', 'RB', 'NYG', '11', '1']"
      ]
     },
     "execution_count": 54,
     "metadata": {},
     "output_type": "execute_result"
    }
   ],
   "source": [
    "clay_300[0:5]"
   ]
  },
  {
   "cell_type": "code",
   "execution_count": 55,
   "metadata": {},
   "outputs": [
    {
     "data": {
      "text/html": [
       "<div>\n",
       "<style scoped>\n",
       "    .dataframe tbody tr th:only-of-type {\n",
       "        vertical-align: middle;\n",
       "    }\n",
       "\n",
       "    .dataframe tbody tr th {\n",
       "        vertical-align: top;\n",
       "    }\n",
       "\n",
       "    .dataframe thead th {\n",
       "        text-align: right;\n",
       "    }\n",
       "</style>\n",
       "<table border=\"1\" class=\"dataframe\">\n",
       "  <thead>\n",
       "    <tr style=\"text-align: right;\">\n",
       "      <th></th>\n",
       "      <th>0</th>\n",
       "    </tr>\n",
       "  </thead>\n",
       "  <tbody>\n",
       "    <tr>\n",
       "      <th>0</th>\n",
       "      <td>1. Saquon Barkley</td>\n",
       "    </tr>\n",
       "    <tr>\n",
       "      <th>1</th>\n",
       "      <td>RB</td>\n",
       "    </tr>\n",
       "    <tr>\n",
       "      <th>2</th>\n",
       "      <td>NYG</td>\n",
       "    </tr>\n",
       "    <tr>\n",
       "      <th>3</th>\n",
       "      <td>11</td>\n",
       "    </tr>\n",
       "    <tr>\n",
       "      <th>4</th>\n",
       "      <td>1</td>\n",
       "    </tr>\n",
       "    <tr>\n",
       "      <th>5</th>\n",
       "      <td>2. Christian McCaffrey</td>\n",
       "    </tr>\n",
       "    <tr>\n",
       "      <th>6</th>\n",
       "      <td>RB</td>\n",
       "    </tr>\n",
       "    <tr>\n",
       "      <th>7</th>\n",
       "      <td>CAR</td>\n",
       "    </tr>\n",
       "    <tr>\n",
       "      <th>8</th>\n",
       "      <td>7</td>\n",
       "    </tr>\n",
       "    <tr>\n",
       "      <th>9</th>\n",
       "      <td>2</td>\n",
       "    </tr>\n",
       "  </tbody>\n",
       "</table>\n",
       "</div>"
      ],
      "text/plain": [
       "                        0\n",
       "0       1. Saquon Barkley\n",
       "1                      RB\n",
       "2                     NYG\n",
       "3                      11\n",
       "4                       1\n",
       "5  2. Christian McCaffrey\n",
       "6                      RB\n",
       "7                     CAR\n",
       "8                       7\n",
       "9                       2"
      ]
     },
     "execution_count": 55,
     "metadata": {},
     "output_type": "execute_result"
    }
   ],
   "source": [
    "all_300 = pd.DataFrame(clay_300)\n",
    "all_300.head(10)"
   ]
  },
  {
   "cell_type": "code",
   "execution_count": 72,
   "metadata": {},
   "outputs": [
    {
     "name": "stdout",
     "output_type": "stream",
     "text": [
      "                   player\n",
      "0       1. Saquon Barkley\n",
      "1  2. Christian McCaffrey\n",
      "2         3. Alvin Kamara\n",
      "3      4. Ezekiel Elliott\n",
      "4        5. David Johnson\n"
     ]
    }
   ],
   "source": [
    "team_list = all_300[2::5].reset_index(drop = True).rename(columns = {0:'team'})\n",
    "position_list = all_300[1::5].reset_index(drop = True).rename(columns = {0:'position'})\n",
    "bye_week = all_300[3::5].reset_index(drop = True).rename(columns = {0:'bye_week'})\n",
    "position_rank = all_300[4::5].reset_index(drop = True).rename(columns = {0:'posrank'})\n",
    "players = all_300[0::5].reset_index(drop = True).rename(columns = {0:'player'})\n",
    "print(players.head())\n",
    "ovr_rank_player = players['player'].str.split('.', n = 1, expand = True)\n",
    "ovr_rank_player.columns = ['ovr_rank', 'player_name']"
   ]
  },
  {
   "cell_type": "code",
   "execution_count": 73,
   "metadata": {},
   "outputs": [],
   "source": [
    "clays_top_300 = pd.concat([ovr_rank_player, position_list, team_list, bye_week, position_rank], axis = 1)"
   ]
  },
  {
   "cell_type": "code",
   "execution_count": 74,
   "metadata": {},
   "outputs": [
    {
     "data": {
      "text/html": [
       "<div>\n",
       "<style scoped>\n",
       "    .dataframe tbody tr th:only-of-type {\n",
       "        vertical-align: middle;\n",
       "    }\n",
       "\n",
       "    .dataframe tbody tr th {\n",
       "        vertical-align: top;\n",
       "    }\n",
       "\n",
       "    .dataframe thead th {\n",
       "        text-align: right;\n",
       "    }\n",
       "</style>\n",
       "<table border=\"1\" class=\"dataframe\">\n",
       "  <thead>\n",
       "    <tr style=\"text-align: right;\">\n",
       "      <th></th>\n",
       "      <th>ovr_rank</th>\n",
       "      <th>player_name</th>\n",
       "      <th>position</th>\n",
       "      <th>team</th>\n",
       "      <th>bye_week</th>\n",
       "      <th>posrank</th>\n",
       "    </tr>\n",
       "  </thead>\n",
       "  <tbody>\n",
       "    <tr>\n",
       "      <th>0</th>\n",
       "      <td>1</td>\n",
       "      <td>Saquon Barkley</td>\n",
       "      <td>RB</td>\n",
       "      <td>NYG</td>\n",
       "      <td>11</td>\n",
       "      <td>1</td>\n",
       "    </tr>\n",
       "    <tr>\n",
       "      <th>1</th>\n",
       "      <td>2</td>\n",
       "      <td>Christian McCaffrey</td>\n",
       "      <td>RB</td>\n",
       "      <td>CAR</td>\n",
       "      <td>7</td>\n",
       "      <td>2</td>\n",
       "    </tr>\n",
       "    <tr>\n",
       "      <th>2</th>\n",
       "      <td>3</td>\n",
       "      <td>Alvin Kamara</td>\n",
       "      <td>RB</td>\n",
       "      <td>NO</td>\n",
       "      <td>9</td>\n",
       "      <td>3</td>\n",
       "    </tr>\n",
       "    <tr>\n",
       "      <th>3</th>\n",
       "      <td>4</td>\n",
       "      <td>Ezekiel Elliott</td>\n",
       "      <td>RB</td>\n",
       "      <td>DAL</td>\n",
       "      <td>8</td>\n",
       "      <td>4</td>\n",
       "    </tr>\n",
       "    <tr>\n",
       "      <th>4</th>\n",
       "      <td>5</td>\n",
       "      <td>David Johnson</td>\n",
       "      <td>RB</td>\n",
       "      <td>ARI</td>\n",
       "      <td>12</td>\n",
       "      <td>5</td>\n",
       "    </tr>\n",
       "    <tr>\n",
       "      <th>5</th>\n",
       "      <td>6</td>\n",
       "      <td>Le'Veon Bell</td>\n",
       "      <td>RB</td>\n",
       "      <td>NYJ</td>\n",
       "      <td>4</td>\n",
       "      <td>6</td>\n",
       "    </tr>\n",
       "    <tr>\n",
       "      <th>6</th>\n",
       "      <td>7</td>\n",
       "      <td>DeAndre Hopkins</td>\n",
       "      <td>WR</td>\n",
       "      <td>HOU</td>\n",
       "      <td>10</td>\n",
       "      <td>1</td>\n",
       "    </tr>\n",
       "    <tr>\n",
       "      <th>7</th>\n",
       "      <td>8</td>\n",
       "      <td>Michael Thomas</td>\n",
       "      <td>WR</td>\n",
       "      <td>NO</td>\n",
       "      <td>9</td>\n",
       "      <td>2</td>\n",
       "    </tr>\n",
       "    <tr>\n",
       "      <th>8</th>\n",
       "      <td>9</td>\n",
       "      <td>Davante Adams</td>\n",
       "      <td>WR</td>\n",
       "      <td>GB</td>\n",
       "      <td>11</td>\n",
       "      <td>3</td>\n",
       "    </tr>\n",
       "    <tr>\n",
       "      <th>9</th>\n",
       "      <td>10</td>\n",
       "      <td>Julio Jones</td>\n",
       "      <td>WR</td>\n",
       "      <td>ATL</td>\n",
       "      <td>9</td>\n",
       "      <td>4</td>\n",
       "    </tr>\n",
       "  </tbody>\n",
       "</table>\n",
       "</div>"
      ],
      "text/plain": [
       "  ovr_rank           player_name position team bye_week posrank\n",
       "0        1        Saquon Barkley       RB  NYG       11       1\n",
       "1        2   Christian McCaffrey       RB  CAR        7       2\n",
       "2        3          Alvin Kamara       RB   NO        9       3\n",
       "3        4       Ezekiel Elliott       RB  DAL        8       4\n",
       "4        5         David Johnson       RB  ARI       12       5\n",
       "5        6          Le'Veon Bell       RB  NYJ        4       6\n",
       "6        7       DeAndre Hopkins       WR  HOU       10       1\n",
       "7        8        Michael Thomas       WR   NO        9       2\n",
       "8        9         Davante Adams       WR   GB       11       3\n",
       "9       10           Julio Jones       WR  ATL        9       4"
      ]
     },
     "execution_count": 74,
     "metadata": {},
     "output_type": "execute_result"
    }
   ],
   "source": [
    "clays_top_300.head(10)"
   ]
  },
  {
   "cell_type": "code",
   "execution_count": 77,
   "metadata": {},
   "outputs": [
    {
     "name": "stdout",
     "output_type": "stream",
     "text": [
      "<class 'pandas.core.frame.DataFrame'>\n",
      "RangeIndex: 300 entries, 0 to 299\n",
      "Data columns (total 6 columns):\n",
      "ovr_rank       300 non-null object\n",
      "player_name    300 non-null object\n",
      "position       300 non-null object\n",
      "team           300 non-null object\n",
      "bye_week       300 non-null object\n",
      "posrank        300 non-null object\n",
      "dtypes: object(6)\n",
      "memory usage: 14.1+ KB\n"
     ]
    }
   ],
   "source": [
    "clays_top_300.info()"
   ]
  },
  {
   "cell_type": "code",
   "execution_count": 80,
   "metadata": {},
   "outputs": [
    {
     "name": "stdout",
     "output_type": "stream",
     "text": [
      "<class 'pandas.core.frame.DataFrame'>\n",
      "RangeIndex: 300 entries, 0 to 299\n",
      "Data columns (total 6 columns):\n",
      "ovr_rank       300 non-null int32\n",
      "player_name    300 non-null object\n",
      "position       300 non-null object\n",
      "team           300 non-null object\n",
      "bye_week       300 non-null int32\n",
      "posrank        300 non-null int32\n",
      "dtypes: int32(3), object(3)\n",
      "memory usage: 10.6+ KB\n"
     ]
    }
   ],
   "source": [
    "clays_top_300[['ovr_rank', 'bye_week', 'posrank']] = clays_top_300[['ovr_rank', 'bye_week', 'posrank']].astype(int)\n",
    "clays_top_300.info()"
   ]
  },
  {
   "cell_type": "code",
   "execution_count": 82,
   "metadata": {},
   "outputs": [
    {
     "name": "stdout",
     "output_type": "stream",
     "text": [
      "Aug 17, 2019\n"
     ]
    }
   ],
   "source": [
    "date_info2 = page_soup.find('span', {'data-dateformat':'date1'})\n",
    "clay_date_updated = date_info2.text\n",
    "print(clay_date_updated)"
   ]
  },
  {
   "cell_type": "code",
   "execution_count": 83,
   "metadata": {},
   "outputs": [],
   "source": [
    "clays_top_300.to_csv('clays_top_300_' + clay_date_updated +'.csv', index = None, header = True)"
   ]
  }
 ],
 "metadata": {
  "kernelspec": {
   "display_name": "Python 3",
   "language": "python",
   "name": "python3"
  },
  "language_info": {
   "codemirror_mode": {
    "name": "ipython",
    "version": 3
   },
   "file_extension": ".py",
   "mimetype": "text/x-python",
   "name": "python",
   "nbconvert_exporter": "python",
   "pygments_lexer": "ipython3",
   "version": "3.7.3"
  }
 },
 "nbformat": 4,
 "nbformat_minor": 4
}
